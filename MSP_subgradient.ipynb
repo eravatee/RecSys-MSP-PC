{
 "cells": [
  {
   "cell_type": "code",
   "execution_count": 2,
   "metadata": {},
   "outputs": [],
   "source": [
    "from gurobipy import *\n",
    "import pandas as pd\n",
    "import numpy as np\n",
    "import random"
   ]
  },
  {
   "cell_type": "markdown",
   "metadata": {},
   "source": [
    "Load dataset"
   ]
  },
  {
   "cell_type": "code",
   "execution_count": 3,
   "metadata": {},
   "outputs": [],
   "source": [
    "movie_data = pd.read_csv('./MSP_dataset.csv')\n",
    "U = movie_data['userId'].to_list()\n",
    "Ir = movie_data['movieId'].to_list()\n",
    "R = movie_data['retailerId'].to_list()"
   ]
  },
  {
   "cell_type": "markdown",
   "metadata": {},
   "source": [
    "Constants "
   ]
  },
  {
   "cell_type": "code",
   "execution_count": 4,
   "metadata": {},
   "outputs": [],
   "source": [
    "K = 100000\n",
    "m = len(set(U))\n",
    "k = 9\n",
    "w = 4"
   ]
  },
  {
   "cell_type": "markdown",
   "metadata": {},
   "source": [
    "Declare and Initialise m1 and m2"
   ]
  },
  {
   "cell_type": "code",
   "execution_count": 5,
   "metadata": {},
   "outputs": [
    {
     "name": "stdout",
     "output_type": "stream",
     "text": [
      "Set parameter Username\n",
      "Academic license - for non-commercial use only - expires 2022-06-24\n"
     ]
    }
   ],
   "source": [
    "m1 = Model('LUBP1')\n",
    "m2 = Model('LUBP2')"
   ]
  },
  {
   "cell_type": "markdown",
   "metadata": {},
   "source": [
    "Data matrices x, y and u"
   ]
  },
  {
   "cell_type": "code",
   "execution_count": 6,
   "metadata": {},
   "outputs": [],
   "source": [
    "x_data = list(zip(Ir, U))\n",
    "y_data = list(zip(R, U))\n",
    "\n",
    "x = np.zeros((len(Ir)+1,len(U)+1))\n",
    "y = np.zeros((len(R)+1,len(U)+1))\n",
    "\n",
    "for (i, j) in x_data:\n",
    "    x[i-1, j-1] = 1\n",
    "\n",
    "for (r, j) in y_data:\n",
    "    x[r-1, j-1] = 1\n",
    "    \n",
    "u = np.random.randint(2, size=(len(Ir)+1))"
   ]
  },
  {
   "cell_type": "markdown",
   "metadata": {},
   "source": [
    "Decision variables and Constraints for m1"
   ]
  },
  {
   "cell_type": "code",
   "execution_count": null,
   "metadata": {},
   "outputs": [],
   "source": [
    "\n",
    "x_1 = m1.addMVar((len(U)+1, len(U)+1), vtype=GRB.BINARY, name=\"x_m1\") #c3\n",
    "m1.update\n",
    "\n",
    "for i in Ir:\n",
    "    m1.addConstr(quicksum(x_matrix[i-1,j-1] * x_1[i-1,j-1] for j in U) == k, 'c1%s' % str([i,j]))"
   ]
  },
  {
   "cell_type": "markdown",
   "metadata": {},
   "source": [
    "Decision variables and Constraints for m2"
   ]
  },
  {
   "cell_type": "code",
   "execution_count": null,
   "metadata": {},
   "outputs": [],
   "source": [
    "x_2 = m2.addVars(len(U)+1, len(U)+1, vtype=GRB.BINARY, name=\"x_m2\") #c9\n",
    "y_2 = m2.addVars(len(U)+1, len(U)+1, vtype=GRB.BINARY, name=\"y_m2\") #c10\n",
    "m2.update\n",
    "\n",
    "for i in Ir:\n",
    "    m2.addConstr(quicksum(x_matrix[i-1,j-1] * x_2[i-1,j-1] for j in U) == k, 'c4%s' % str([i,j]))\n",
    "\n",
    "for i in Ir: \n",
    "    m2.addConstr(quicksum(x_matrix[i-1,j-1] * x_2[i-1,j-1] for j in U) <= quicksum(K * y_matrix[r-1, j-1] for r in R for j in U), 'c6%s' % str([i,j]))\n",
    "\n",
    "for i in Ir: \n",
    "    m2.addConstr(quicksum(x_matrix[i-1,j-1] * x_2[i-1,j-1] for j in U) <= 1 - K + quicksum(K * y_matrix[r-1, j-1] for r in R for j in U), 'c7%s' % str([i,j]))\n",
    "\n",
    "for r in R: \n",
    "    m2.addConstr(quicksum(y_matrix[r-1,j-1] * y_2[r-1,j-1] for j in U) >= w, 'c8%s' % str([i,j]))"
   ]
  },
  {
   "cell_type": "markdown",
   "metadata": {},
   "source": [
    "Save models for inspection"
   ]
  },
  {
   "cell_type": "code",
   "execution_count": 189,
   "metadata": {},
   "outputs": [
    {
     "name": "stdout",
     "output_type": "stream",
     "text": [
      "Warning: variables 502 and 252506 have the same name \"x_m1[0,0]\"\n",
      "Warning: linear constraint 0 and linear constraint 1 have the same name \"c1\"\n",
      "Warning: to let Gurobi read it back, use rlp format\n"
     ]
    }
   ],
   "source": [
    "m1.write('LUBP1.rlp')\n",
    "m2.write('LUBP2.rlp')"
   ]
  },
  {
   "cell_type": "markdown",
   "metadata": {},
   "source": [
    "Initial Objective Functions for m1 and m2"
   ]
  },
  {
   "cell_type": "code",
   "execution_count": 191,
   "metadata": {},
   "outputs": [],
   "source": [
    "l = np.array([0.5] * 502)\n",
    "a = np.array([0.5] * 502)\n",
    "#Constant pr declaration - based on normal distribution over RetailerId with mean = 7.5 and standard deviation 4.82\n",
    "p = np.array([0.8, 0.6, 0.4, 0.6, 0.6, 0.6, 0.6, 0.6, 0.6, 0.8, 0.4, 0.6, 0.6, 0.6, 0.4, 0.6, 0.6, 0.6, 0.8, 0.6])\n",
    "c = np.multiply(p, m*k)"
   ]
  },
  {
   "cell_type": "code",
   "execution_count": null,
   "metadata": {},
   "outputs": [],
   "source": [
    "# generator_m1 = np.matmul(u_matrix, x_1)\n",
    "# generator_m2 = np.matmul(u_matrix, x_2)\n",
    "\n",
    "init_obj_func_m1 = m1.setObjective(quicksum(u_matrix[i-1,j-1]*x_1[i-1,j-1] for i in Ir for j in U) - quicksum(l[r-1]*a[r-1]*c[r-1] for r in R), GRB.MAXIMIZE) # l[r] = 0 initially.\n",
    "m1.write(\"LUBP1.rlp\")\n",
    "init_obj_func_m2 = m2.setObjective(quicksum(u_matrix[i-1,j-1]*x_1[i-1,j-1] for i in Ir for j in U) - quicksum(l[r-1]*a[r-1]*c[r-1] for r in R), GRB.MAXIMIZE) # l[r] = 0 initially.\n",
    "# init_obj_func_m1 = m1.setMObjective(None, u_matrix@x_2, GRB.MAXIMIZE)\n",
    "# init_obj_func_m2 = m2.setMObjective(None, np.matmul(u_matrix, x_2), 0.0, sense=GRB.MAXIMIZE)"
   ]
  },
  {
   "cell_type": "markdown",
   "metadata": {},
   "source": [
    "Run optimizer for m1 and m2"
   ]
  },
  {
   "cell_type": "code",
   "execution_count": null,
   "metadata": {},
   "outputs": [],
   "source": [
    "m1.optimize()\n",
    "m2.optimize()"
   ]
  },
  {
   "cell_type": "markdown",
   "metadata": {},
   "source": [
    "Get objective values for m1 and m2"
   ]
  },
  {
   "cell_type": "code",
   "execution_count": null,
   "metadata": {},
   "outputs": [],
   "source": [
    "init_obj_m1 = m1.getObjective()\n",
    "print(init_obj_m1.getValue())\n",
    "\n",
    "init_obj_m2 = m2.getObjective()\n",
    "print(init_obj_m2.getValue())"
   ]
  },
  {
   "cell_type": "code",
   "execution_count": null,
   "metadata": {},
   "outputs": [],
   "source": [
    "def subGradientOptimisation(init_feasable_value, x):\n",
    "    Z_lb = init_feasable_value\n",
    "    Z_ub = 0 # variable declaration\n",
    "    pi = 0.1\n",
    "    l =[0] * (len(U)-1)\n",
    "    # Z_lb = initial feasable soln from M1(M2)\n",
    "    # Z_ub = feasable soln for M1(M2) after using all multipliers\n",
    "    G = sum([x[i-1][j-1] for i in Ir for j in U])\n",
    "    T = pi*(Z_ub - Z_lb) / sum(G[r-1]*G[r-1] for r in R)\n",
    "    #Z_lb update for new feasable solution from M1(M2)\n",
    "    for r in R:\n",
    "        l[r-1] = max(0, l[r-1]+T*G[r-1])\n",
    "    return l"
   ]
  }
 ],
 "metadata": {
  "interpreter": {
   "hash": "eadf7ff9bc037d4eef2b4057b274853fb36d5eb9e32887997110cc07155e30b9"
  },
  "kernelspec": {
   "display_name": "Python 3.8.12 ('tf_m1')",
   "language": "python",
   "name": "python3"
  },
  "language_info": {
   "codemirror_mode": {
    "name": "ipython",
    "version": 3
   },
   "file_extension": ".py",
   "mimetype": "text/x-python",
   "name": "python",
   "nbconvert_exporter": "python",
   "pygments_lexer": "ipython3",
   "version": "3.9.12"
  },
  "orig_nbformat": 4
 },
 "nbformat": 4,
 "nbformat_minor": 2
}
