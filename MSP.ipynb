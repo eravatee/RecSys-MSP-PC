{
 "cells": [
  {
   "cell_type": "code",
   "execution_count": null,
   "metadata": {},
   "outputs": [],
   "source": [
    "from gurobipy import *\n",
    "import pandas as pd\n",
    "import numpy as np\n",
    "import random"
   ]
  },
  {
   "cell_type": "markdown",
   "metadata": {},
   "source": [
    "Load dataset"
   ]
  },
  {
   "cell_type": "code",
   "execution_count": null,
   "metadata": {},
   "outputs": [],
   "source": [
    "movie_data = pd.read_csv('./ratings_sample_final.csv')\n",
    "U = movie_data['userId'].to_list()\n",
    "Ir = movie_data['movieId'].to_list()\n",
    "R = movie_data['retailerId'].to_list()"
   ]
  },
  {
   "cell_type": "markdown",
   "metadata": {},
   "source": [
    "constants "
   ]
  },
  {
   "cell_type": "code",
   "execution_count": null,
   "metadata": {},
   "outputs": [],
   "source": [
    "K = 100000\n",
    "m = len(set(U))\n",
    "k = 2\n",
    "w = 2"
   ]
  },
  {
   "cell_type": "markdown",
   "metadata": {},
   "source": [
    "Declare and Initialise m1 and m2"
   ]
  },
  {
   "cell_type": "code",
   "execution_count": null,
   "metadata": {},
   "outputs": [],
   "source": [
    "m1 = Model('LUBP1')\n",
    "m2 = Model('LUBP2')"
   ]
  },
  {
   "cell_type": "markdown",
   "metadata": {},
   "source": [
    "prep data for u"
   ]
  },
  {
   "cell_type": "code",
   "execution_count": null,
   "metadata": {},
   "outputs": [],
   "source": [
    "x_data = dict(zip(Ir, U))\n",
    "y_data = dict(zip(R, U))\n",
    "\n",
    "u = [[0 for _ in range(len(Ir)+1)] for _ in range(len(U)+1)]\n",
    "\n",
    "for i in Ir:\n",
    "    for j in U:\n",
    "        item = i-1\n",
    "        user = j-1\n",
    "        if (item, user) in x_data:\n",
    "            u[item][user] = 1\n",
    "        else:\n",
    "            u[item][user] = random.randint(0,1)\n",
    "\n",
    "u_matrix = np.array(u)"
   ]
  },
  {
   "cell_type": "markdown",
   "metadata": {},
   "source": [
    "decision variables and constraints for m1"
   ]
  },
  {
   "cell_type": "code",
   "execution_count": null,
   "metadata": {},
   "outputs": [],
   "source": [
    "\n",
    "x_1 = m1.addMVar((501, 501), vtype=GRB.BINARY, name=\"x_m1\") #c3\n",
    "m1.update\n",
    "\n",
    "c1 = m1.addConstrs((x_1[:, j].sum() == k for j in U), 'c1')"
   ]
  },
  {
   "cell_type": "markdown",
   "metadata": {},
   "source": [
    "decision variables and constraints for m2"
   ]
  },
  {
   "cell_type": "code",
   "execution_count": null,
   "metadata": {},
   "outputs": [],
   "source": [
    "x_2 = m2.addMVar((501, 501), vtype=GRB.BINARY, name=\"x_m2\") #c9\n",
    "y_2 = m2.addMVar((501, 501), vtype=GRB.BINARY, name=\"y_m2\") #c10\n",
    "m2.update\n",
    "\n",
    "c4 = m2.addConstrs((x_2[:, j].sum() == k for j in U), 'c4')\n",
    "c6 = m2.addConstrs((x_2[:, j].sum() <= K*y_2[r,j] for r in R for j in U), 'c6')\n",
    "c7 = m2.addConstrs((x_2[:, j].sum() <= (1 - K*(1 - y_2[r,j])) for r in R for j in U ), 'c7')\n",
    "c8 = m2.addConstrs((y_2[:, j].sum() >= w for j in U), 'c8')"
   ]
  },
  {
   "cell_type": "markdown",
   "metadata": {},
   "source": [
    "initial objective functions for m1 and m2"
   ]
  }
 ],
 "metadata": {
  "language_info": {
   "name": "python"
  },
  "orig_nbformat": 4
 },
 "nbformat": 4,
 "nbformat_minor": 2
}
